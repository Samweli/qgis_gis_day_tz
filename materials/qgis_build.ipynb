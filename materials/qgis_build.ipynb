{
 "cells": [
  {
   "cell_type": "markdown",
   "metadata": {},
   "source": [
    "# QGIS Development Environment Setup Using Docker\n",
    "\n",
    "This notebook guides you through setting up a QGIS development environment using Docker. We'll cover cloning the repository, creating a Docker environment, and building QGIS from source.\n",
    "\n",
    "## Prerequisites\n",
    "- Docker installed on your system\n",
    "- Docker Compose installed\n",
    "- Git installed\n",
    "- X11 server running (for Linux GUI applications)\n",
    "\n",
    "## 1. Clone QGIS Repository\n",
    "\n",
    "First, we'll clone the QGIS repository from GitHub. This contains all the source code needed to build QGIS."
   ]
  },
  {
   "cell_type": "code",
   "execution_count": null,
   "metadata": {},
   "outputs": [],
   "source": [
    "!git clone https://github.com/qgis/QGIS.git\n",
    "%cd QGIS"
   ]
  },
  {
   "cell_type": "markdown",
   "metadata": {},
   "source": [
    "## 2. Create Docker Compose Configuration\n",
    "\n",
    "We'll create a `docker-compose.yml` file that defines our development environment. This configuration:\n",
    "- Uses the official QGIS build dependencies image\n",
    "- Mounts the source code and build directories\n",
    "- Sets up X11 forwarding for GUI applications\n",
    "- Configures networking for X11 support"
   ]
  },
  {
   "cell_type": "code",
   "execution_count": null,
   "metadata": {},
   "outputs": [],
   "source": [
    "%%writefile docker-compose.yml\n",
    "version: '3'\n",
    "\n",
    "services:\n",
    "  qgis-dev:\n",
    "    image: qgis/qgis3-build-deps-22.04-qt5:latest\n",
    "    volumes:\n",
    "      - ..:/src/QGIS\n",
    "      - build:/src/QGIS/build\n",
    "    environment:\n",
    "      - DISPLAY=${DISPLAY}\n",
    "      - XAUTHORITY=${XAUTHORITY}\n",
    "      - XDG_RUNTIME_DIR=/tmp\n",
    "    network_mode: host\n",
    "    working_dir: /src/QGIS/build\n",
    "    command: bash\n",
    "\n",
    "volumes:\n",
    "  build:"
   ]
  },
  {
   "cell_type": "markdown",
   "metadata": {},
   "source": [
    "## 3. Build the Development Environment\n",
    "\n",
    "Now we'll build the Docker environment using the compose file we created."
   ]
  },
  {
   "cell_type": "code",
   "execution_count": null,
   "metadata": {},
   "outputs": [],
   "source": [
    "!docker compose build qgis-dev"
   ]
  },
  {
   "cell_type": "markdown",
   "metadata": {},
   "source": [
    "## 4. Start the Development Environment\n",
    "\n",
    "Launch the development container with an interactive bash shell."
   ]
  },
  {
   "cell_type": "code",
   "execution_count": null,
   "metadata": {},
   "outputs": [],
   "source": [
    "!docker compose run --rm qgis-dev bash"
   ]
  },
  {
   "cell_type": "markdown",
   "metadata": {},
   "source": [
    "## 5. Building QGIS\n",
    "\n",
    "Inside the container, we'll configure and build QGIS using CMake and Ninja. The configuration options control various features:\n",
    "\n",
    "- `WITH_STAGED_PLUGINS`: Enable staged plugins\n",
    "- `CMAKE_INSTALL_PREFIX`: Set installation directory for QGIS\n",
    "- `WITH_GRASS`: Enable GRASS QGIS integration\n",
    "- `SUPPRESS_QT_WARNINGS`: Reduce Qt warning messages\n",
    "- `ENABLE_TESTS`: Disable testing for faster builds\n",
    "- `WITH_QSPATIALITE`: Enable Spatialite support\n",
    "- `WITH_DESKTOP`: Build desktop application\n",
    "- `WITH_BINDINGS`: Enable Python bindings\n",
    "- `DISABLE_DEPRECATED`: Disable deprecated functionality"
   ]
  },
  {
   "cell_type": "code",
   "execution_count": null,
   "metadata": {},
   "outputs": [],
   "source": [
    "%%bash\n",
    "# Configure with CMake\n",
    "cmake -GNinja \\\n",
    "    -DWITH_STAGED_PLUGINS=ON \\\n",
    "    -DCMAKE_INSTALL_PREFIX=/usr \\\n",
    "    -DWITH_GRASS=ON \\\n",
    "    -DSUPPRESS_QT_WARNINGS=ON \\\n",
    "    -DENABLE_TESTS=OFF \\\n",
    "    -DWITH_QSPATIALITE=ON \\\n",
    "    -DWITH_QWTPOLAR=OFF \\\n",
    "    -DWITH_APIDOC=OFF \\\n",
    "    -DWITH_ASTYLE=OFF \\\n",
    "    -DWITH_DESKTOP=ON \\\n",
    "    -DWITH_BINDINGS=ON \\\n",
    "    -DDISABLE_DEPRECATED=ON\n",
    "\n",
    "# Build QGIS\n",
    "ninja\n",
    "\n",
    "# Install QGIS\n",
    "ninja install"
   ]
  },
  {
   "cell_type": "markdown",
   "metadata": {},
   "source": [
    "## Notes and Troubleshooting\n",
    "\n",
    "1. The build process may take significant time depending on your system resources.\n",
    "2. Make sure your X11 server is properly configured for GUI applications.\n",
    "3. If you encounter permission issues, you may need to run Docker commands with sudo.\n",
    "4. The build volume persists between container runs, saving compilation time.\n",
    "\n",
    "To run QGIS after installation, use the `qgis` command inside the container."
   ]
  }
 ],
 "metadata": {
  "kernelspec": {
   "display_name": "Python 3",
   "language": "python",
   "name": "python3"
  },
  "language_info": {
   "codemirror_mode": {
    "name": "ipython",
    "version": 3
   },
   "file_extension": ".py",
   "mimetype": "text/x-python",
   "name": "python",
   "nbconvert_exporter": "python",
   "pygments_lexer": "ipython3",
   "version": "3.8.0"
  }
 },
 "nbformat": 4,
 "nbformat_minor": 4
}
